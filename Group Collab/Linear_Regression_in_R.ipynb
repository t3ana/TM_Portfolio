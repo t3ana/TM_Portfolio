{
  "nbformat": 4,
  "nbformat_minor": 0,
  "metadata": {
    "colab": {
      "provenance": []
    },
    "kernelspec": {
      "name": "ir",
      "display_name": "R"
    },
    "language_info": {
      "name": "R"
    }
  },
  "cells": [
    {
      "cell_type": "code",
      "metadata": {
        "colab": {
          "base_uri": "https://localhost:8080/",
          "height": 1000
        },
        "id": "NIx6QU75FiVq",
        "outputId": "526f9bb3-6aef-42e6-b65b-4acaa997cd16"
      },
      "source": [
        "swiss"
      ],
      "execution_count": null,
      "outputs": [
        {
          "output_type": "display_data",
          "data": {
            "text/plain": [
              "             Fertility Agriculture Examination Education Catholic\n",
              "Courtelary   80.2      17.0        15          12          9.96  \n",
              "Delemont     83.1      45.1         6           9         84.84  \n",
              "Franches-Mnt 92.5      39.7         5           5         93.40  \n",
              "Moutier      85.8      36.5        12           7         33.77  \n",
              "Neuveville   76.9      43.5        17          15          5.16  \n",
              "Porrentruy   76.1      35.3         9           7         90.57  \n",
              "Broye        83.8      70.2        16           7         92.85  \n",
              "Glane        92.4      67.8        14           8         97.16  \n",
              "Gruyere      82.4      53.3        12           7         97.67  \n",
              "Sarine       82.9      45.2        16          13         91.38  \n",
              "Veveyse      87.1      64.5        14           6         98.61  \n",
              "Aigle        64.1      62.0        21          12          8.52  \n",
              "Aubonne      66.9      67.5        14           7          2.27  \n",
              "Avenches     68.9      60.7        19          12          4.43  \n",
              "Cossonay     61.7      69.3        22           5          2.82  \n",
              "Echallens    68.3      72.6        18           2         24.20  \n",
              "Grandson     71.7      34.0        17           8          3.30  \n",
              "Lausanne     55.7      19.4        26          28         12.11  \n",
              "La Vallee    54.3      15.2        31          20          2.15  \n",
              "Lavaux       65.1      73.0        19           9          2.84  \n",
              "Morges       65.5      59.8        22          10          5.23  \n",
              "Moudon       65.0      55.1        14           3          4.52  \n",
              "Nyone        56.6      50.9        22          12         15.14  \n",
              "Orbe         57.4      54.1        20           6          4.20  \n",
              "Oron         72.5      71.2        12           1          2.40  \n",
              "Payerne      74.2      58.1        14           8          5.23  \n",
              "Paysd'enhaut 72.0      63.5         6           3          2.56  \n",
              "Rolle        60.5      60.8        16          10          7.72  \n",
              "Vevey        58.3      26.8        25          19         18.46  \n",
              "Yverdon      65.4      49.5        15           8          6.10  \n",
              "Conthey      75.5      85.9         3           2         99.71  \n",
              "Entremont    69.3      84.9         7           6         99.68  \n",
              "Herens       77.3      89.7         5           2        100.00  \n",
              "Martigwy     70.5      78.2        12           6         98.96  \n",
              "Monthey      79.4      64.9         7           3         98.22  \n",
              "St Maurice   65.0      75.9         9           9         99.06  \n",
              "Sierre       92.2      84.6         3           3         99.46  \n",
              "Sion         79.3      63.1        13          13         96.83  \n",
              "Boudry       70.4      38.4        26          12          5.62  \n",
              "La Chauxdfnd 65.7       7.7        29          11         13.79  \n",
              "Le Locle     72.7      16.7        22          13         11.22  \n",
              "Neuchatel    64.4      17.6        35          32         16.92  \n",
              "Val de Ruz   77.6      37.6        15           7          4.97  \n",
              "ValdeTravers 67.6      18.7        25           7          8.65  \n",
              "V. De Geneve 35.0       1.2        37          53         42.34  \n",
              "Rive Droite  44.7      46.6        16          29         50.43  \n",
              "Rive Gauche  42.8      27.7        22          29         58.33  \n",
              "             Infant.Mortality\n",
              "Courtelary   22.2            \n",
              "Delemont     22.2            \n",
              "Franches-Mnt 20.2            \n",
              "Moutier      20.3            \n",
              "Neuveville   20.6            \n",
              "Porrentruy   26.6            \n",
              "Broye        23.6            \n",
              "Glane        24.9            \n",
              "Gruyere      21.0            \n",
              "Sarine       24.4            \n",
              "Veveyse      24.5            \n",
              "Aigle        16.5            \n",
              "Aubonne      19.1            \n",
              "Avenches     22.7            \n",
              "Cossonay     18.7            \n",
              "Echallens    21.2            \n",
              "Grandson     20.0            \n",
              "Lausanne     20.2            \n",
              "La Vallee    10.8            \n",
              "Lavaux       20.0            \n",
              "Morges       18.0            \n",
              "Moudon       22.4            \n",
              "Nyone        16.7            \n",
              "Orbe         15.3            \n",
              "Oron         21.0            \n",
              "Payerne      23.8            \n",
              "Paysd'enhaut 18.0            \n",
              "Rolle        16.3            \n",
              "Vevey        20.9            \n",
              "Yverdon      22.5            \n",
              "Conthey      15.1            \n",
              "Entremont    19.8            \n",
              "Herens       18.3            \n",
              "Martigwy     19.4            \n",
              "Monthey      20.2            \n",
              "St Maurice   17.8            \n",
              "Sierre       16.3            \n",
              "Sion         18.1            \n",
              "Boudry       20.3            \n",
              "La Chauxdfnd 20.5            \n",
              "Le Locle     18.9            \n",
              "Neuchatel    23.0            \n",
              "Val de Ruz   20.0            \n",
              "ValdeTravers 19.5            \n",
              "V. De Geneve 18.0            \n",
              "Rive Droite  18.2            \n",
              "Rive Gauche  19.3            "
            ],
            "text/latex": "A data.frame: 47 × 6\n\\begin{tabular}{r|llllll}\n  & Fertility & Agriculture & Examination & Education & Catholic & Infant.Mortality\\\\\n  & <dbl> & <dbl> & <int> & <int> & <dbl> & <dbl>\\\\\n\\hline\n\tCourtelary & 80.2 & 17.0 & 15 & 12 &   9.96 & 22.2\\\\\n\tDelemont & 83.1 & 45.1 &  6 &  9 &  84.84 & 22.2\\\\\n\tFranches-Mnt & 92.5 & 39.7 &  5 &  5 &  93.40 & 20.2\\\\\n\tMoutier & 85.8 & 36.5 & 12 &  7 &  33.77 & 20.3\\\\\n\tNeuveville & 76.9 & 43.5 & 17 & 15 &   5.16 & 20.6\\\\\n\tPorrentruy & 76.1 & 35.3 &  9 &  7 &  90.57 & 26.6\\\\\n\tBroye & 83.8 & 70.2 & 16 &  7 &  92.85 & 23.6\\\\\n\tGlane & 92.4 & 67.8 & 14 &  8 &  97.16 & 24.9\\\\\n\tGruyere & 82.4 & 53.3 & 12 &  7 &  97.67 & 21.0\\\\\n\tSarine & 82.9 & 45.2 & 16 & 13 &  91.38 & 24.4\\\\\n\tVeveyse & 87.1 & 64.5 & 14 &  6 &  98.61 & 24.5\\\\\n\tAigle & 64.1 & 62.0 & 21 & 12 &   8.52 & 16.5\\\\\n\tAubonne & 66.9 & 67.5 & 14 &  7 &   2.27 & 19.1\\\\\n\tAvenches & 68.9 & 60.7 & 19 & 12 &   4.43 & 22.7\\\\\n\tCossonay & 61.7 & 69.3 & 22 &  5 &   2.82 & 18.7\\\\\n\tEchallens & 68.3 & 72.6 & 18 &  2 &  24.20 & 21.2\\\\\n\tGrandson & 71.7 & 34.0 & 17 &  8 &   3.30 & 20.0\\\\\n\tLausanne & 55.7 & 19.4 & 26 & 28 &  12.11 & 20.2\\\\\n\tLa Vallee & 54.3 & 15.2 & 31 & 20 &   2.15 & 10.8\\\\\n\tLavaux & 65.1 & 73.0 & 19 &  9 &   2.84 & 20.0\\\\\n\tMorges & 65.5 & 59.8 & 22 & 10 &   5.23 & 18.0\\\\\n\tMoudon & 65.0 & 55.1 & 14 &  3 &   4.52 & 22.4\\\\\n\tNyone & 56.6 & 50.9 & 22 & 12 &  15.14 & 16.7\\\\\n\tOrbe & 57.4 & 54.1 & 20 &  6 &   4.20 & 15.3\\\\\n\tOron & 72.5 & 71.2 & 12 &  1 &   2.40 & 21.0\\\\\n\tPayerne & 74.2 & 58.1 & 14 &  8 &   5.23 & 23.8\\\\\n\tPaysd'enhaut & 72.0 & 63.5 &  6 &  3 &   2.56 & 18.0\\\\\n\tRolle & 60.5 & 60.8 & 16 & 10 &   7.72 & 16.3\\\\\n\tVevey & 58.3 & 26.8 & 25 & 19 &  18.46 & 20.9\\\\\n\tYverdon & 65.4 & 49.5 & 15 &  8 &   6.10 & 22.5\\\\\n\tConthey & 75.5 & 85.9 &  3 &  2 &  99.71 & 15.1\\\\\n\tEntremont & 69.3 & 84.9 &  7 &  6 &  99.68 & 19.8\\\\\n\tHerens & 77.3 & 89.7 &  5 &  2 & 100.00 & 18.3\\\\\n\tMartigwy & 70.5 & 78.2 & 12 &  6 &  98.96 & 19.4\\\\\n\tMonthey & 79.4 & 64.9 &  7 &  3 &  98.22 & 20.2\\\\\n\tSt Maurice & 65.0 & 75.9 &  9 &  9 &  99.06 & 17.8\\\\\n\tSierre & 92.2 & 84.6 &  3 &  3 &  99.46 & 16.3\\\\\n\tSion & 79.3 & 63.1 & 13 & 13 &  96.83 & 18.1\\\\\n\tBoudry & 70.4 & 38.4 & 26 & 12 &   5.62 & 20.3\\\\\n\tLa Chauxdfnd & 65.7 &  7.7 & 29 & 11 &  13.79 & 20.5\\\\\n\tLe Locle & 72.7 & 16.7 & 22 & 13 &  11.22 & 18.9\\\\\n\tNeuchatel & 64.4 & 17.6 & 35 & 32 &  16.92 & 23.0\\\\\n\tVal de Ruz & 77.6 & 37.6 & 15 &  7 &   4.97 & 20.0\\\\\n\tValdeTravers & 67.6 & 18.7 & 25 &  7 &   8.65 & 19.5\\\\\n\tV. De Geneve & 35.0 &  1.2 & 37 & 53 &  42.34 & 18.0\\\\\n\tRive Droite & 44.7 & 46.6 & 16 & 29 &  50.43 & 18.2\\\\\n\tRive Gauche & 42.8 & 27.7 & 22 & 29 &  58.33 & 19.3\\\\\n\\end{tabular}\n",
            "text/markdown": "\nA data.frame: 47 × 6\n\n| <!--/--> | Fertility &lt;dbl&gt; | Agriculture &lt;dbl&gt; | Examination &lt;int&gt; | Education &lt;int&gt; | Catholic &lt;dbl&gt; | Infant.Mortality &lt;dbl&gt; |\n|---|---|---|---|---|---|---|\n| Courtelary | 80.2 | 17.0 | 15 | 12 |   9.96 | 22.2 |\n| Delemont | 83.1 | 45.1 |  6 |  9 |  84.84 | 22.2 |\n| Franches-Mnt | 92.5 | 39.7 |  5 |  5 |  93.40 | 20.2 |\n| Moutier | 85.8 | 36.5 | 12 |  7 |  33.77 | 20.3 |\n| Neuveville | 76.9 | 43.5 | 17 | 15 |   5.16 | 20.6 |\n| Porrentruy | 76.1 | 35.3 |  9 |  7 |  90.57 | 26.6 |\n| Broye | 83.8 | 70.2 | 16 |  7 |  92.85 | 23.6 |\n| Glane | 92.4 | 67.8 | 14 |  8 |  97.16 | 24.9 |\n| Gruyere | 82.4 | 53.3 | 12 |  7 |  97.67 | 21.0 |\n| Sarine | 82.9 | 45.2 | 16 | 13 |  91.38 | 24.4 |\n| Veveyse | 87.1 | 64.5 | 14 |  6 |  98.61 | 24.5 |\n| Aigle | 64.1 | 62.0 | 21 | 12 |   8.52 | 16.5 |\n| Aubonne | 66.9 | 67.5 | 14 |  7 |   2.27 | 19.1 |\n| Avenches | 68.9 | 60.7 | 19 | 12 |   4.43 | 22.7 |\n| Cossonay | 61.7 | 69.3 | 22 |  5 |   2.82 | 18.7 |\n| Echallens | 68.3 | 72.6 | 18 |  2 |  24.20 | 21.2 |\n| Grandson | 71.7 | 34.0 | 17 |  8 |   3.30 | 20.0 |\n| Lausanne | 55.7 | 19.4 | 26 | 28 |  12.11 | 20.2 |\n| La Vallee | 54.3 | 15.2 | 31 | 20 |   2.15 | 10.8 |\n| Lavaux | 65.1 | 73.0 | 19 |  9 |   2.84 | 20.0 |\n| Morges | 65.5 | 59.8 | 22 | 10 |   5.23 | 18.0 |\n| Moudon | 65.0 | 55.1 | 14 |  3 |   4.52 | 22.4 |\n| Nyone | 56.6 | 50.9 | 22 | 12 |  15.14 | 16.7 |\n| Orbe | 57.4 | 54.1 | 20 |  6 |   4.20 | 15.3 |\n| Oron | 72.5 | 71.2 | 12 |  1 |   2.40 | 21.0 |\n| Payerne | 74.2 | 58.1 | 14 |  8 |   5.23 | 23.8 |\n| Paysd'enhaut | 72.0 | 63.5 |  6 |  3 |   2.56 | 18.0 |\n| Rolle | 60.5 | 60.8 | 16 | 10 |   7.72 | 16.3 |\n| Vevey | 58.3 | 26.8 | 25 | 19 |  18.46 | 20.9 |\n| Yverdon | 65.4 | 49.5 | 15 |  8 |   6.10 | 22.5 |\n| Conthey | 75.5 | 85.9 |  3 |  2 |  99.71 | 15.1 |\n| Entremont | 69.3 | 84.9 |  7 |  6 |  99.68 | 19.8 |\n| Herens | 77.3 | 89.7 |  5 |  2 | 100.00 | 18.3 |\n| Martigwy | 70.5 | 78.2 | 12 |  6 |  98.96 | 19.4 |\n| Monthey | 79.4 | 64.9 |  7 |  3 |  98.22 | 20.2 |\n| St Maurice | 65.0 | 75.9 |  9 |  9 |  99.06 | 17.8 |\n| Sierre | 92.2 | 84.6 |  3 |  3 |  99.46 | 16.3 |\n| Sion | 79.3 | 63.1 | 13 | 13 |  96.83 | 18.1 |\n| Boudry | 70.4 | 38.4 | 26 | 12 |   5.62 | 20.3 |\n| La Chauxdfnd | 65.7 |  7.7 | 29 | 11 |  13.79 | 20.5 |\n| Le Locle | 72.7 | 16.7 | 22 | 13 |  11.22 | 18.9 |\n| Neuchatel | 64.4 | 17.6 | 35 | 32 |  16.92 | 23.0 |\n| Val de Ruz | 77.6 | 37.6 | 15 |  7 |   4.97 | 20.0 |\n| ValdeTravers | 67.6 | 18.7 | 25 |  7 |   8.65 | 19.5 |\n| V. De Geneve | 35.0 |  1.2 | 37 | 53 |  42.34 | 18.0 |\n| Rive Droite | 44.7 | 46.6 | 16 | 29 |  50.43 | 18.2 |\n| Rive Gauche | 42.8 | 27.7 | 22 | 29 |  58.33 | 19.3 |\n\n",
            "text/html": [
              "<table class=\"dataframe\">\n",
              "<caption>A data.frame: 47 × 6</caption>\n",
              "<thead>\n",
              "\t<tr><th></th><th scope=col>Fertility</th><th scope=col>Agriculture</th><th scope=col>Examination</th><th scope=col>Education</th><th scope=col>Catholic</th><th scope=col>Infant.Mortality</th></tr>\n",
              "\t<tr><th></th><th scope=col>&lt;dbl&gt;</th><th scope=col>&lt;dbl&gt;</th><th scope=col>&lt;int&gt;</th><th scope=col>&lt;int&gt;</th><th scope=col>&lt;dbl&gt;</th><th scope=col>&lt;dbl&gt;</th></tr>\n",
              "</thead>\n",
              "<tbody>\n",
              "\t<tr><th scope=row>Courtelary</th><td>80.2</td><td>17.0</td><td>15</td><td>12</td><td>  9.96</td><td>22.2</td></tr>\n",
              "\t<tr><th scope=row>Delemont</th><td>83.1</td><td>45.1</td><td> 6</td><td> 9</td><td> 84.84</td><td>22.2</td></tr>\n",
              "\t<tr><th scope=row>Franches-Mnt</th><td>92.5</td><td>39.7</td><td> 5</td><td> 5</td><td> 93.40</td><td>20.2</td></tr>\n",
              "\t<tr><th scope=row>Moutier</th><td>85.8</td><td>36.5</td><td>12</td><td> 7</td><td> 33.77</td><td>20.3</td></tr>\n",
              "\t<tr><th scope=row>Neuveville</th><td>76.9</td><td>43.5</td><td>17</td><td>15</td><td>  5.16</td><td>20.6</td></tr>\n",
              "\t<tr><th scope=row>Porrentruy</th><td>76.1</td><td>35.3</td><td> 9</td><td> 7</td><td> 90.57</td><td>26.6</td></tr>\n",
              "\t<tr><th scope=row>Broye</th><td>83.8</td><td>70.2</td><td>16</td><td> 7</td><td> 92.85</td><td>23.6</td></tr>\n",
              "\t<tr><th scope=row>Glane</th><td>92.4</td><td>67.8</td><td>14</td><td> 8</td><td> 97.16</td><td>24.9</td></tr>\n",
              "\t<tr><th scope=row>Gruyere</th><td>82.4</td><td>53.3</td><td>12</td><td> 7</td><td> 97.67</td><td>21.0</td></tr>\n",
              "\t<tr><th scope=row>Sarine</th><td>82.9</td><td>45.2</td><td>16</td><td>13</td><td> 91.38</td><td>24.4</td></tr>\n",
              "\t<tr><th scope=row>Veveyse</th><td>87.1</td><td>64.5</td><td>14</td><td> 6</td><td> 98.61</td><td>24.5</td></tr>\n",
              "\t<tr><th scope=row>Aigle</th><td>64.1</td><td>62.0</td><td>21</td><td>12</td><td>  8.52</td><td>16.5</td></tr>\n",
              "\t<tr><th scope=row>Aubonne</th><td>66.9</td><td>67.5</td><td>14</td><td> 7</td><td>  2.27</td><td>19.1</td></tr>\n",
              "\t<tr><th scope=row>Avenches</th><td>68.9</td><td>60.7</td><td>19</td><td>12</td><td>  4.43</td><td>22.7</td></tr>\n",
              "\t<tr><th scope=row>Cossonay</th><td>61.7</td><td>69.3</td><td>22</td><td> 5</td><td>  2.82</td><td>18.7</td></tr>\n",
              "\t<tr><th scope=row>Echallens</th><td>68.3</td><td>72.6</td><td>18</td><td> 2</td><td> 24.20</td><td>21.2</td></tr>\n",
              "\t<tr><th scope=row>Grandson</th><td>71.7</td><td>34.0</td><td>17</td><td> 8</td><td>  3.30</td><td>20.0</td></tr>\n",
              "\t<tr><th scope=row>Lausanne</th><td>55.7</td><td>19.4</td><td>26</td><td>28</td><td> 12.11</td><td>20.2</td></tr>\n",
              "\t<tr><th scope=row>La Vallee</th><td>54.3</td><td>15.2</td><td>31</td><td>20</td><td>  2.15</td><td>10.8</td></tr>\n",
              "\t<tr><th scope=row>Lavaux</th><td>65.1</td><td>73.0</td><td>19</td><td> 9</td><td>  2.84</td><td>20.0</td></tr>\n",
              "\t<tr><th scope=row>Morges</th><td>65.5</td><td>59.8</td><td>22</td><td>10</td><td>  5.23</td><td>18.0</td></tr>\n",
              "\t<tr><th scope=row>Moudon</th><td>65.0</td><td>55.1</td><td>14</td><td> 3</td><td>  4.52</td><td>22.4</td></tr>\n",
              "\t<tr><th scope=row>Nyone</th><td>56.6</td><td>50.9</td><td>22</td><td>12</td><td> 15.14</td><td>16.7</td></tr>\n",
              "\t<tr><th scope=row>Orbe</th><td>57.4</td><td>54.1</td><td>20</td><td> 6</td><td>  4.20</td><td>15.3</td></tr>\n",
              "\t<tr><th scope=row>Oron</th><td>72.5</td><td>71.2</td><td>12</td><td> 1</td><td>  2.40</td><td>21.0</td></tr>\n",
              "\t<tr><th scope=row>Payerne</th><td>74.2</td><td>58.1</td><td>14</td><td> 8</td><td>  5.23</td><td>23.8</td></tr>\n",
              "\t<tr><th scope=row>Paysd'enhaut</th><td>72.0</td><td>63.5</td><td> 6</td><td> 3</td><td>  2.56</td><td>18.0</td></tr>\n",
              "\t<tr><th scope=row>Rolle</th><td>60.5</td><td>60.8</td><td>16</td><td>10</td><td>  7.72</td><td>16.3</td></tr>\n",
              "\t<tr><th scope=row>Vevey</th><td>58.3</td><td>26.8</td><td>25</td><td>19</td><td> 18.46</td><td>20.9</td></tr>\n",
              "\t<tr><th scope=row>Yverdon</th><td>65.4</td><td>49.5</td><td>15</td><td> 8</td><td>  6.10</td><td>22.5</td></tr>\n",
              "\t<tr><th scope=row>Conthey</th><td>75.5</td><td>85.9</td><td> 3</td><td> 2</td><td> 99.71</td><td>15.1</td></tr>\n",
              "\t<tr><th scope=row>Entremont</th><td>69.3</td><td>84.9</td><td> 7</td><td> 6</td><td> 99.68</td><td>19.8</td></tr>\n",
              "\t<tr><th scope=row>Herens</th><td>77.3</td><td>89.7</td><td> 5</td><td> 2</td><td>100.00</td><td>18.3</td></tr>\n",
              "\t<tr><th scope=row>Martigwy</th><td>70.5</td><td>78.2</td><td>12</td><td> 6</td><td> 98.96</td><td>19.4</td></tr>\n",
              "\t<tr><th scope=row>Monthey</th><td>79.4</td><td>64.9</td><td> 7</td><td> 3</td><td> 98.22</td><td>20.2</td></tr>\n",
              "\t<tr><th scope=row>St Maurice</th><td>65.0</td><td>75.9</td><td> 9</td><td> 9</td><td> 99.06</td><td>17.8</td></tr>\n",
              "\t<tr><th scope=row>Sierre</th><td>92.2</td><td>84.6</td><td> 3</td><td> 3</td><td> 99.46</td><td>16.3</td></tr>\n",
              "\t<tr><th scope=row>Sion</th><td>79.3</td><td>63.1</td><td>13</td><td>13</td><td> 96.83</td><td>18.1</td></tr>\n",
              "\t<tr><th scope=row>Boudry</th><td>70.4</td><td>38.4</td><td>26</td><td>12</td><td>  5.62</td><td>20.3</td></tr>\n",
              "\t<tr><th scope=row>La Chauxdfnd</th><td>65.7</td><td> 7.7</td><td>29</td><td>11</td><td> 13.79</td><td>20.5</td></tr>\n",
              "\t<tr><th scope=row>Le Locle</th><td>72.7</td><td>16.7</td><td>22</td><td>13</td><td> 11.22</td><td>18.9</td></tr>\n",
              "\t<tr><th scope=row>Neuchatel</th><td>64.4</td><td>17.6</td><td>35</td><td>32</td><td> 16.92</td><td>23.0</td></tr>\n",
              "\t<tr><th scope=row>Val de Ruz</th><td>77.6</td><td>37.6</td><td>15</td><td> 7</td><td>  4.97</td><td>20.0</td></tr>\n",
              "\t<tr><th scope=row>ValdeTravers</th><td>67.6</td><td>18.7</td><td>25</td><td> 7</td><td>  8.65</td><td>19.5</td></tr>\n",
              "\t<tr><th scope=row>V. De Geneve</th><td>35.0</td><td> 1.2</td><td>37</td><td>53</td><td> 42.34</td><td>18.0</td></tr>\n",
              "\t<tr><th scope=row>Rive Droite</th><td>44.7</td><td>46.6</td><td>16</td><td>29</td><td> 50.43</td><td>18.2</td></tr>\n",
              "\t<tr><th scope=row>Rive Gauche</th><td>42.8</td><td>27.7</td><td>22</td><td>29</td><td> 58.33</td><td>19.3</td></tr>\n",
              "</tbody>\n",
              "</table>\n"
            ]
          },
          "metadata": {}
        }
      ]
    },
    {
      "cell_type": "code",
      "metadata": {
        "colab": {
          "base_uri": "https://localhost:8080/"
        },
        "id": "8qZ8J_6pIwjU",
        "outputId": "4439cd14-2a65-4a8a-e511-a9c3d9aeefe8"
      },
      "source": [
        "str(swiss)"
      ],
      "execution_count": null,
      "outputs": [
        {
          "output_type": "stream",
          "name": "stdout",
          "text": [
            "'data.frame':\t47 obs. of  6 variables:\n",
            " $ Fertility       : num  80.2 83.1 92.5 85.8 76.9 76.1 83.8 92.4 82.4 82.9 ...\n",
            " $ Agriculture     : num  17 45.1 39.7 36.5 43.5 35.3 70.2 67.8 53.3 45.2 ...\n",
            " $ Examination     : int  15 6 5 12 17 9 16 14 12 16 ...\n",
            " $ Education       : int  12 9 5 7 15 7 7 8 7 13 ...\n",
            " $ Catholic        : num  9.96 84.84 93.4 33.77 5.16 ...\n",
            " $ Infant.Mortality: num  22.2 22.2 20.2 20.3 20.6 26.6 23.6 24.9 21 24.4 ...\n"
          ]
        }
      ]
    },
    {
      "cell_type": "code",
      "metadata": {
        "colab": {
          "base_uri": "https://localhost:8080/",
          "height": 260
        },
        "id": "ISV18VGuI5yr",
        "outputId": "f3dd4c57-761a-44f8-ffcc-36acb27cd822"
      },
      "source": [
        "summary(swiss)"
      ],
      "execution_count": null,
      "outputs": [
        {
          "output_type": "display_data",
          "data": {
            "text/plain": [
              "   Fertility      Agriculture     Examination      Education    \n",
              " Min.   :35.00   Min.   : 1.20   Min.   : 3.00   Min.   : 1.00  \n",
              " 1st Qu.:64.70   1st Qu.:35.90   1st Qu.:12.00   1st Qu.: 6.00  \n",
              " Median :70.40   Median :54.10   Median :16.00   Median : 8.00  \n",
              " Mean   :70.14   Mean   :50.66   Mean   :16.49   Mean   :10.98  \n",
              " 3rd Qu.:78.45   3rd Qu.:67.65   3rd Qu.:22.00   3rd Qu.:12.00  \n",
              " Max.   :92.50   Max.   :89.70   Max.   :37.00   Max.   :53.00  \n",
              "    Catholic       Infant.Mortality\n",
              " Min.   :  2.150   Min.   :10.80   \n",
              " 1st Qu.:  5.195   1st Qu.:18.15   \n",
              " Median : 15.140   Median :20.00   \n",
              " Mean   : 41.144   Mean   :19.94   \n",
              " 3rd Qu.: 93.125   3rd Qu.:21.70   \n",
              " Max.   :100.000   Max.   :26.60   "
            ]
          },
          "metadata": {}
        }
      ]
    },
    {
      "cell_type": "code",
      "metadata": {
        "colab": {
          "base_uri": "https://localhost:8080/",
          "height": 437
        },
        "id": "RwhBBzSXJcHW",
        "outputId": "52fccb76-1806-489e-e8d1-f842660f2cd0"
      },
      "source": [
        "par(mfrow=c(1, 2))\n",
        "boxplot(swiss$Agriculture, main=\"Agriculture\", sub=paste(\"Outlier: \", boxplot.stats(swiss$Agriculture)$out))\n",
        "boxplot(swiss$Education, main=\"Education\", sub=paste(\"Outlier: \", boxplot.stats(swiss$Education)$out))"
      ],
      "execution_count": null,
      "outputs": [
        {
          "output_type": "display_data",
          "data": {
            "image/png": "[encoded data removed]",
            "text/plain": [
              "Plot with title “Education”"
            ]
          },
          "metadata": {
            "image/png": {
              "width": 420,
              "height": 420
            }
          }
        }
      ]
    },
    {
      "cell_type": "code",
      "metadata": {
        "colab": {
          "base_uri": "https://localhost:8080/",
          "height": 437
        },
        "id": "htBSetuJK9Sb",
        "outputId": "65faaa37-007b-419e-9f7a-43e880f5e803"
      },
      "source": [
        "plot(x=swiss$Agriculture, y=swiss$Education, xlab=\"Agriculture\", ylab=\"Education\", main=\"Agriculture vs Education\")"
      ],
      "execution_count": null,
      "outputs": [
        {
          "output_type": "display_data",
          "data": {
            "image/png": "[encoded data removed]",
            "text/plain": [
              "Plot with title “Agriculture vs Education”"
            ]
          },
          "metadata": {
            "image/png": {
              "width": 420,
              "height": 420
            }
          }
        }
      ]
    },
    {
      "cell_type": "code",
      "metadata": {
        "colab": {
          "base_uri": "https://localhost:8080/",
          "height": 34
        },
        "id": "IODbV83HNTTF",
        "outputId": "41cbe82a-be3c-4200-d470-d4405f51f696"
      },
      "source": [
        "cor(swiss$Agriculture, swiss$Education)"
      ],
      "execution_count": null,
      "outputs": [
        {
          "output_type": "display_data",
          "data": {
            "text/plain": [
              "[1] -0.6395225"
            ],
            "text/latex": "-0.63952251894832",
            "text/markdown": "-0.63952251894832",
            "text/html": [
              "-0.63952251894832"
            ]
          },
          "metadata": {}
        }
      ]
    },
    {
      "cell_type": "code",
      "metadata": {
        "colab": {
          "base_uri": "https://localhost:8080/"
        },
        "id": "vswAkxLKN0sK",
        "outputId": "ab621967-2982-4fe7-bb44-c36010e3c078"
      },
      "source": [
        "linearModel <- lm(Education ~ Agriculture, data=swiss)\n",
        "print(linearModel)"
      ],
      "execution_count": null,
      "outputs": [
        {
          "output_type": "stream",
          "name": "stdout",
          "text": [
            "\n",
            "Call:\n",
            "lm(formula = Education ~ Agriculture, data = swiss)\n",
            "\n",
            "Coefficients:\n",
            "(Intercept)  Agriculture  \n",
            "    24.6953      -0.2708  \n",
            "\n"
          ]
        }
      ]
    },
    {
      "cell_type": "code",
      "metadata": {
        "colab": {
          "base_uri": "https://localhost:8080/",
          "height": 329
        },
        "id": "H9jFvOGoOnP7",
        "outputId": "abba4e19-a273-40b8-bdca-e2033c68393f"
      },
      "source": [
        "summary(linearModel)"
      ],
      "execution_count": null,
      "outputs": [
        {
          "output_type": "display_data",
          "data": {
            "text/plain": [
              "\n",
              "Call:\n",
              "lm(formula = Education ~ Agriculture, data = swiss)\n",
              "\n",
              "Residuals:\n",
              "    Min      1Q  Median      3Q     Max \n",
              "-12.632  -4.270   0.543   2.280  28.630 \n",
              "\n",
              "Coefficients:\n",
              "            Estimate Std. Error t value Pr(>|t|)    \n",
              "(Intercept) 24.69527    2.68890   9.184 6.98e-12 ***\n",
              "Agriculture -0.27076    0.04852  -5.580 1.30e-06 ***\n",
              "---\n",
              "Signif. codes:  0 ‘***’ 0.001 ‘**’ 0.01 ‘*’ 0.05 ‘.’ 0.1 ‘ ’ 1\n",
              "\n",
              "Residual standard error: 7.474 on 45 degrees of freedom\n",
              "Multiple R-squared:  0.409,\tAdjusted R-squared:  0.3959 \n",
              "F-statistic: 31.14 on 1 and 45 DF,  p-value: 1.305e-06\n"
            ]
          },
          "metadata": {}
        }
      ]
    },
    {
      "cell_type": "code",
      "metadata": {
        "colab": {
          "base_uri": "https://localhost:8080/",
          "height": 437
        },
        "id": "OE2jUaX9OyYk",
        "outputId": "7aca1e55-09fd-4b4a-f81d-94da48d48bd9"
      },
      "source": [
        "plot(x=swiss$Agriculture, y=swiss$Education, xlab=\"Agriculture\", ylab=\"Education\", main=\"Agr. vs Edu.\")\n",
        "abline(linearModel)"
      ],
      "execution_count": null,
      "outputs": [
        {
          "output_type": "display_data",
          "data": {
            "image/png": "[encoded data removed]",
            "text/plain": [
              "Plot with title “Agr. vs Edu.”"
            ]
          },
          "metadata": {
            "image/png": {
              "width": 420,
              "height": 420
            }
          }
        }
      ]
    },
    {
      "cell_type": "code",
      "metadata": {
        "id": "VIVapR33PYMG"
      },
      "source": [
        "set.seed(100)\n",
        "trainingRowIndex<- sample(1:nrow(swiss), 0.8*nrow(swiss))\n",
        "trainingData<- swiss[trainingRowIndex, ]\n",
        "testData<- swiss[-trainingRowIndex, ]"
      ],
      "execution_count": null,
      "outputs": []
    },
    {
      "cell_type": "code",
      "metadata": {
        "colab": {
          "base_uri": "https://localhost:8080/",
          "height": 329
        },
        "id": "s24DTK-KQLxg",
        "outputId": "39826467-88e7-40bc-8906-528e53255391"
      },
      "source": [
        "ImMod<-lm(Education ~ Agriculture, data=trainingData)\n",
        "disPred <- predict(ImMod, testData)\n",
        "summary(ImMod)"
      ],
      "execution_count": null,
      "outputs": [
        {
          "output_type": "display_data",
          "data": {
            "text/plain": [
              "\n",
              "Call:\n",
              "lm(formula = Education ~ Agriculture, data = trainingData)\n",
              "\n",
              "Residuals:\n",
              "     Min       1Q   Median       3Q      Max \n",
              "-11.8379  -4.0256   0.2413   2.2382  29.5580 \n",
              "\n",
              "Coefficients:\n",
              "            Estimate Std. Error t value Pr(>|t|)    \n",
              "(Intercept) 23.75770    2.93125   8.105 1.52e-09 ***\n",
              "Agriculture -0.26309    0.05369  -4.900 2.17e-05 ***\n",
              "---\n",
              "Signif. codes:  0 ‘***’ 0.001 ‘**’ 0.01 ‘*’ 0.05 ‘.’ 0.1 ‘ ’ 1\n",
              "\n",
              "Residual standard error: 7.437 on 35 degrees of freedom\n",
              "Multiple R-squared:  0.4069,\tAdjusted R-squared:   0.39 \n",
              "F-statistic: 24.01 on 1 and 35 DF,  p-value: 2.167e-05\n"
            ]
          },
          "metadata": {}
        }
      ]
    }
  ]
}
