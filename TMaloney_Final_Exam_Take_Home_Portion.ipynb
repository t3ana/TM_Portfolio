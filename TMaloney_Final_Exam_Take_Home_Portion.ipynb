{
  "nbformat": 4,
  "nbformat_minor": 0,
  "metadata": {
    "colab": {
      "provenance": [],
      "include_colab_link": true
    },
    "kernelspec": {
      "name": "python3",
      "display_name": "Python 3"
    },
    "language_info": {
      "name": "python"
    }
  },
  "cells": [
    {
      "cell_type": "markdown",
      "metadata": {
        "id": "view-in-github",
        "colab_type": "text"
      },
      "source": [
        "<a href=\"https://colab.research.google.com/github/t3ana/TM_Portfolio/blob/main/TMaloney_Final_Exam_Take_Home_Portion.ipynb\" target=\"_parent\"><img src=\"https://colab.research.google.com/assets/colab-badge.svg\" alt=\"Open In Colab\"/></a>"
      ]
    },
    {
      "cell_type": "markdown",
      "source": [
        "**Task 1**"
      ],
      "metadata": {
        "id": "H62JO3UJAX0E"
      }
    },
    {
      "cell_type": "code",
      "execution_count": null,
      "metadata": {
        "colab": {
          "base_uri": "https://localhost:8080/",
          "height": 313
        },
        "id": "wozb-_DpBUGC",
        "outputId": "60313c31-5747-4f7e-df40-49c42c44fa6e"
      },
      "outputs": [
        {
          "output_type": "execute_result",
          "data": {
            "text/plain": [
              "Text(0, 0.5, 'Value 2')"
            ]
          },
          "metadata": {},
          "execution_count": 1
        },
        {
          "output_type": "display_data",
          "data": {
            "text/plain": [
              "<Figure size 432x288 with 1 Axes>"
            ],
            "image/png": "[encoded data removed]"
          },
          "metadata": {
            "needs_background": "light"
          }
        }
      ],
      "source": [
        "#Create a Scatterplot\n",
        "#Import packages\n",
        "import numpy as np\n",
        "import matplotlib.pyplot as plt \n",
        "from pandas import *\n",
        "import pandas as pd\n",
        "\n",
        "#Import Data\n",
        "Data = read_csv('FinalExamData.csv')\n",
        "X = Data['Value 1']\n",
        "Y = Data['Value 2']\n",
        "\n",
        "#Create the Scatterplot \n",
        "plt.scatter(X,Y,s=30) \n",
        "ax=plt.gca()\n",
        "xlim=ax.get_xlim()\n",
        "ylim=ax.get_ylim()\n",
        "xx=np.linspace(xlim[0],xlim[1])\n",
        "yy=np.linspace(ylim[0],ylim[1])\n",
        "XX,YY=np.meshgrid(xx,yy)\n",
        "\n",
        "#Create Labels\n",
        "plt.title('Scatterplot')\n",
        "plt.xlabel('Value 1')\n",
        "plt.ylabel('Value 2')"
      ]
    },
    {
      "cell_type": "code",
      "source": [
        "#Create Dendrogram\n",
        "#Import Packages\n",
        "from pandas import *\n",
        "import pandas as pd\n",
        "from scipy.cluster import hierarchy\n",
        "import matplotlib.pyplot as plt\n",
        "import numpy as np\n",
        "import graphviz \n",
        "import scipy\n",
        "from scipy.spatial import distance\n",
        "\n",
        "#Finding the Distance\n",
        "Data = np.asarray(Data)\n",
        "Df = pd.DataFrame(np.zeros((len(Data),len(Data))))\n",
        "mindist=2\n",
        "for j in range(0,len(Data)): #rows\n",
        "  for i in range(j,len(Data)): #columns \n",
        "    CurDist=scipy.spatial.distance.cityblock(Data[j,:],Data[i,:]) \n",
        "    Df.iloc[j,i]=CurDist\n",
        "    Df.iloc[i,j]=CurDist\n",
        "    if CurDist<mindist and i!=j:\n",
        "      mindist=CurDist\n",
        "\n",
        "#Creating the Dendrogram\n",
        "ytdist = pd.DataFrame(np.zeros((1,190)))\n",
        "pos=0\n",
        "for i in range(0,len(Df)):\n",
        "  for j in range(i+1,len(Df)): \n",
        "    ytdist[0,pos] = Df.iloc[i,j]\n",
        "    pos = pos+1\n",
        "\n",
        "ytdist = np.array(ytdist)\n",
        "ytdist = ytdist.T\n",
        "Z = hierarchy.linkage(ytdist,'single')\n",
        "plt.figure()\n",
        "dn = hierarchy.dendrogram(Z)"
      ],
      "metadata": {
        "colab": {
          "base_uri": "https://localhost:8080/",
          "height": 303
        },
        "id": "XkV5iZuWKDb-",
        "outputId": "b8a70713-6211-45c1-bcf9-b05da6404b6d"
      },
      "execution_count": null,
      "outputs": [
        {
          "output_type": "stream",
          "name": "stderr",
          "text": [
            "/usr/local/lib/python3.7/dist-packages/ipykernel_launcher.py:30: PerformanceWarning: DataFrame is highly fragmented.  This is usually the result of calling `frame.insert` many times, which has poor performance.  Consider joining all columns at once using pd.concat(axis=1) instead.  To get a de-fragmented frame, use `newframe = frame.copy()`\n"
          ]
        },
        {
          "output_type": "display_data",
          "data": {
            "text/plain": [
              "<Figure size 432x288 with 1 Axes>"
            ],
            "image/png": "[encoded data removed]"
          },
          "metadata": {
            "needs_background": "light"
          }
        }
      ]
    },
    {
      "cell_type": "markdown",
      "source": [
        "**Explain what you think k should be in order to use K-Means clustering with this data. Use the two previous items (the scatterplot and dendrogram) in your explanation.**\n",
        "\n",
        "I believe k should be 3 or 4 for the k-means clusterings because in the visual for the scatterplot there were almost 3 separate clusters of data. Although the one on the far right was a little more spaced out than the other data clumps, which made me a little hesitant to say it is 3 and has a possibility of being 4. Moving into the dendrogram, it made a little more clear that the k is more likely to be 4 because when the distance is 2, there are 4 clusters. I knew when the distance was 1 it was individual clusters and at a distance of 3 it all came together as one cluster which ruled out those possibilties.\n",
        "\n"
      ],
      "metadata": {
        "id": "8XEh4Jc4ABUK"
      }
    },
    {
      "cell_type": "code",
      "source": [
        "#Run K-Means\n",
        "#Import Packages\n",
        "import pandas as pd\n",
        "import numpy as np\n",
        "from sklearn import datasets\n",
        "from sklearn import preprocessing\n",
        "import matplotlib.pyplot as plt \n",
        "from sklearn.cluster import KMeans \n",
        "from sklearn import metrics\n",
        "from sklearn.datasets import make_blobs \n",
        "\n",
        "#Finding Kmeans\n",
        "random_state=0\n",
        "X = np.array(Data)\n",
        "plt.figure(figsize=(12,12))\n",
        "\n",
        "y_pred = KMeans (n_clusters=4, random_state=random_state).fit_predict(X)\n",
        "kmeans = KMeans(n_clusters=4, random_state=random_state).fit(X)\n",
        "cc=kmeans.cluster_centers_\n",
        "\n",
        "#Plotting Kmeans\n",
        "plt.subplot(221)\n",
        "plt.scatter(X[:,0],X[:,1],c=y_pred)\n",
        "plt.scatter(cc[:,0],cc[:,1],marker=\"X\",c=\"k\")\n",
        "plt.title(\"Final Exam Data Clusters\")\n",
        "\n",
        "print(\"The lowest SSE is:\", kmeans.inertia_) \n",
        "print(\"The number of iterations required to converge:\", kmeans.n_iter_)\n",
        "print(\"The first ten predicted cluster values for our data are:\", kmeans.labels_[:10])\n",
        "\n",
        "KMLabels = kmeans.labels_\n",
        "HS = metrics.homogeneity_score(Y, KMLabels)\n",
        "CS = metrics.completeness_score(Y, KMLabels)\n",
        "\n",
        "print('Homogeneity score:', HS)\n",
        "print('Completeness score:', CS)"
      ],
      "metadata": {
        "colab": {
          "base_uri": "https://localhost:8080/",
          "height": 449
        },
        "id": "JsLc_DIpfVkJ",
        "outputId": "111c76e9-46ca-4eb8-db6b-805338e1e035"
      },
      "execution_count": null,
      "outputs": [
        {
          "output_type": "stream",
          "name": "stdout",
          "text": [
            "The lowest SSE is: 1238.2214285714285\n",
            "The number of iterations required to converge: 2\n",
            "The first ten predicted cluster values for our data are: [1 1 1 1 1 1 1 3 3 3]\n",
            "Homogeneity score: 0.2334878126478868\n",
            "Completeness score: 0.1884820354707767\n"
          ]
        },
        {
          "output_type": "display_data",
          "data": {
            "text/plain": [
              "<Figure size 864x864 with 1 Axes>"
            ],
            "image/png": "[encoded data removed]"
          },
          "metadata": {
            "needs_background": "light"
          }
        }
      ]
    },
    {
      "cell_type": "markdown",
      "source": [
        "**Discuss if the results produce a good clustering or not. (Do not simply give a yes/no.)**\n",
        "\n",
        "I believe the results do not produce a good clustering because looking at the SSE it is very high but I know I can't solely base my answer on the inertia score as it can sometimes be inflated. So, I also looked at the homogeneity score, which is the score about clusters only containing members of one class, and the completeness score, which is the score that calculates if members of the same class are in the same cluster. Both of these scores were very low with the homogeneity being 23.24% and completeness being 18.85%. With this in mind, I felt that the clustering was not good although the visual looks decent."
      ],
      "metadata": {
        "id": "IM8Gv-1LAQL4"
      }
    },
    {
      "cell_type": "markdown",
      "source": [
        "**Task 2**"
      ],
      "metadata": {
        "id": "pAvwaz3UAeeS"
      }
    },
    {
      "cell_type": "code",
      "source": [
        "#Split into Training set and Testing set\n",
        "#Import Packages and Data Set\n",
        "from sklearn.model_selection import train_test_split\n",
        "GermanData = read_csv(\"GermanCreditDataEdited.csv\")\n",
        "\n",
        "#Create X and Y\n",
        "X= [GermanData['LoanDuration'], GermanData['CreditAmount'], GermanData['RateInPercentageOfDisposableIncome'], GermanData['PresentResidenceYears'], \n",
        "    GermanData['Age'], GermanData['NumExistingCredits'], GermanData['NumberDependents']]\n",
        "Y= GermanData['Target']\n",
        "\n",
        "X= np.asarray(X)\n",
        "Y= np.asarray(Y)\n",
        "X=X.T\n",
        "\n",
        "#Split Data into Train and Test Set\n",
        "X.shape, Y.shape\n",
        "X_train, X_test, Y_train, Y_test = train_test_split(X, Y, test_size=0.2, random_state=0)\n",
        "\n",
        "X_train.shape, Y_train.shape\n",
        "X_test.shape, Y_test.shape\n",
        "\n",
        "#Printing Size of Sets\n",
        "print(Y_test.shape) #tells us how many in the test group\n",
        "print(Y_train.shape) #tells us how many in the train group"
      ],
      "metadata": {
        "colab": {
          "base_uri": "https://localhost:8080/"
        },
        "id": "6mak1-s1AjZH",
        "outputId": "b30a3b86-16f2-4556-fb18-4928976b97f7"
      },
      "execution_count": null,
      "outputs": [
        {
          "output_type": "stream",
          "name": "stdout",
          "text": [
            "(185,)\n",
            "(736,)\n"
          ]
        }
      ]
    },
    {
      "cell_type": "code",
      "source": [
        "#Train either a tree or a random forest on only the numeric values in the attributes\n",
        "#Import Packages\n",
        "from sklearn.ensemble import RandomForestClassifier\n",
        "from sklearn.metrics import confusion_matrix\n",
        "\n",
        "#Create Random Forest Model\n",
        "model=RandomForestClassifier(n_estimators=100, max_depth=5, random_state=1)\n",
        "model.fit(X_train,Y_train)\n",
        "predictions=model.predict(X_test)\n",
        "\n",
        "#Create Confusion Matrix for Accuracy\n",
        "confusion_matrix(predictions,Y_test)"
      ],
      "metadata": {
        "colab": {
          "base_uri": "https://localhost:8080/"
        },
        "id": "R43BOkVOFaDK",
        "outputId": "ead49c49-5321-4983-81d9-23a497d36eaf"
      },
      "execution_count": null,
      "outputs": [
        {
          "output_type": "execute_result",
          "data": {
            "text/plain": [
              "array([[128,  47],\n",
              "       [  1,   9]])"
            ]
          },
          "metadata": {},
          "execution_count": 7
        }
      ]
    },
    {
      "cell_type": "code",
      "source": [
        "#Conducting Majority Classsifier \n",
        "print(\"Good Target\", GermanData['Target'].value_counts()[1])\n",
        "print(\"Bad Target\", GermanData['Target'].value_counts()[2])\n"
      ],
      "metadata": {
        "id": "qZ6XOGoAV-0G",
        "outputId": "bd2e8641-64b0-47fd-b404-5197f343849f",
        "colab": {
          "base_uri": "https://localhost:8080/"
        }
      },
      "execution_count": null,
      "outputs": [
        {
          "output_type": "stream",
          "name": "stdout",
          "text": [
            "Good Target 650\n",
            "Bad Target 271\n"
          ]
        }
      ]
    },
    {
      "cell_type": "markdown",
      "source": [
        "**Discuss the accuracy of your model. Please do more than state the accuracy and whether or not you think it is acceptable.**\n",
        "\n",
        "I believe the accuracy of my model is acceptable because the percentage of predicted correctly is above the baseline. I used the confusion matrix to help calculate the amount predicted correctly, predicted as bad, and predicted as good in the test portion of the data. Out of the 185 pieces of data, it was able to correctly predict 74.05% of it. I compared this to a majority classifier using the whole dataset as a baseline. I took 650, which is the amount of good targets, and divided that by 921, the full amount of data values in the set, to get an accuracy of 73.5%. By comparing my model to the baseline, I am able to conclude that my accuracy is acceptable but there is probaably room for improvement seeing as it is still relatively close to the baseline accuracy prediction."
      ],
      "metadata": {
        "id": "3I24wMTxF9BP"
      }
    },
    {
      "cell_type": "markdown",
      "source": [
        "**Discuss the dangers of making an error mislabeling someone as a good credit risk or bad credit risk. Is one error more costly than the other? If so, why? If not, why not?**\n",
        "\n",
        "By misclassifying someone as good or bad you are potentially making a costly decision that could effect the business. Both could hurt potential profit and credibility, but mislabeling someone as good credit risk is a more costly error than mislabeling someone as a bad credit risk. By mislabeling a good credit as bad, you are simply going to deny them business or not target them as potential clients. However, if you mislabel a bad credit risk as a good credit risk, you will target bad. You will have to deal with any damage they cause such as not paying or being behind on payments. Therefore, you have to pay and lose money rather than see a potential gain."
      ],
      "metadata": {
        "id": "bu5u9rspJPCj"
      }
    }
  ]
}